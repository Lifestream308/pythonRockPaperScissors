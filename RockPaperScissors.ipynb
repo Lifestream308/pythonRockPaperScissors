{
 "cells": [
  {
   "cell_type": "code",
   "execution_count": 1,
   "metadata": {},
   "outputs": [
    {
     "name": "stdout",
     "output_type": "stream",
     "text": [
      "What is your choice? Rock? Paper? Scissors? or Quit rock\n",
      "You have lost...\n",
      "What is your choice? Rock? Paper? Scissors? or Quit rock\n",
      "Draw!\n",
      "What is your choice? Rock? Paper? Scissors? or Quit paper\n",
      "You have lost...\n",
      "What is your choice? Rock? Paper? Scissors? or Quit scissors\n",
      "Draw!\n",
      "What is your choice? Rock? Paper? Scissors? or Quit paper\n",
      "Draw!\n",
      "What is your choice? Rock? Paper? Scissors? or Quit rock\n",
      "Draw!\n",
      "What is your choice? Rock? Paper? Scissors? or Quit rock\n",
      "You have lost...\n",
      "What is your choice? Rock? Paper? Scissors? or Quit rock\n",
      "You Won!\n",
      "What is your choice? Rock? Paper? Scissors? or Quit quit\n",
      "Goodbye!\n"
     ]
    }
   ],
   "source": [
    "# Rock Paper Scissors !\n",
    "import random\n",
    "\n",
    "computer_options = [\"Rock\", \"Paper\", \"Scissors\"]\n",
    "\n",
    "def rollDice(choice): \n",
    "    random_computer_option = computer_options[random.randrange(0, 3)]\n",
    "    if choice.title() + random_computer_option == \"RockRock\": \n",
    "        print(\"Draw!\")\n",
    "    if choice.title() + random_computer_option == \"PaperPaper\": \n",
    "        print(\"Draw!\")\n",
    "    if choice.title() + random_computer_option == \"ScissorsScissors\": \n",
    "        print(\"Draw!\")\n",
    "    if choice.title() + random_computer_option == \"RockScissors\": \n",
    "        print(\"You Won!\")\n",
    "    if choice.title() + random_computer_option == \"PaperRock\": \n",
    "        print(\"You Won!\")\n",
    "    if choice.title() + random_computer_option == \"ScissorsPaper\": \n",
    "        print(\"You Won!\")\n",
    "    if choice.title() + random_computer_option == \"RockPaper\": \n",
    "        print(\"You have lost...\")\n",
    "    if choice.title() + random_computer_option == \"PaperScissors\": \n",
    "        print(\"You have lost...\")\n",
    "    if choice.title() + random_computer_option == \"ScissorsRock\": \n",
    "        print(\"You have lost...\")\n",
    "\n",
    "def startGame(): \n",
    "    player_choice = input(\"What is your choice? Rock? Paper? Scissors? or Quit \")\n",
    "    if player_choice.casefold() == \"quit\": \n",
    "        print(\"Goodbye!\")\n",
    "    if player_choice.casefold() != \"quit\": \n",
    "        rollDice(player_choice)\n",
    "        startGame()\n",
    "\n",
    "startGame()"
   ]
  },
  {
   "cell_type": "code",
   "execution_count": null,
   "metadata": {},
   "outputs": [],
   "source": []
  }
 ],
 "metadata": {
  "kernelspec": {
   "display_name": "Python 3 (ipykernel)",
   "language": "python",
   "name": "python3"
  },
  "language_info": {
   "codemirror_mode": {
    "name": "ipython",
    "version": 3
   },
   "file_extension": ".py",
   "mimetype": "text/x-python",
   "name": "python",
   "nbconvert_exporter": "python",
   "pygments_lexer": "ipython3",
   "version": "3.9.12"
  },
  "vscode": {
   "interpreter": {
    "hash": "9e3bfd5707cea17bcbe380e30b983be31a9c4e73ed42697506103186bbe325e5"
   }
  }
 },
 "nbformat": 4,
 "nbformat_minor": 2
}
